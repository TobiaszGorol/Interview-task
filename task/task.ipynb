{
 "cells": [
  {
   "cell_type": "code",
   "execution_count": 1,
   "id": "d95b7577",
   "metadata": {},
   "outputs": [],
   "source": [
    "import pandas as pd"
   ]
  },
  {
   "cell_type": "code",
   "execution_count": 2,
   "id": "4dc9a6db",
   "metadata": {},
   "outputs": [],
   "source": [
    "dataframe = pd.DataFrame({'Id': ['001', '002', '003', '004', '003', '005'],\n",
    "                          'Order': ['Buy', 'Sell', 'Buy', 'Buy', 'Buy', 'Sell'],\n",
    "                          'Type': ['Add', 'Add', 'Add', 'Add', 'Remove', 'Add'],\n",
    "                          'Price': [20.0, 25.0, 23.0, 23.0, 23.0, 28],\n",
    "                          'Quantity': [100, 200, 50, 50, 50, 100]\n",
    "})"
   ]
  },
  {
   "cell_type": "code",
   "execution_count": 3,
   "id": "822c320f",
   "metadata": {},
   "outputs": [],
   "source": [
    "def is_valid(i):\n",
    "    return (i.Order.lower() in ['buy', 'sell']) and (i.Type.lower() in ['add', 'remove']) and \\\n",
    "       (i.Price >= 0 and type(i.Price) in [int, float]) and (i.Quantity > 0 and type(i.Quantity) is int)\n",
    "\n",
    "def get_best_stock_options(i, offers):\n",
    "    best_price = find_best_price(i, offers)\n",
    "    offers = make_offers_dict(i, offers)\n",
    "    price, quantity = find_final_price_and_quantity(i, offers)\n",
    "    return price, quantity, offers\n",
    "\n",
    "def display_best_stock_options(i, *args):\n",
    "    if len(args) == 0: \n",
    "        print(f'Previous options are the best. Wrong data in {i.Index + 1} row!')\n",
    "    else:\n",
    "        print(f'{i.Order} price: {args[0]}, quantity: {args[1]}')\n",
    "\n",
    "def find_best_price(i, offers):\n",
    "    price_index = 0\n",
    "    if i.Order == 'Buy': \n",
    "        best_price = min(offers.items(), key = lambda x: x[0])[price_index]\n",
    "    else: \n",
    "        best_price = max(offers.items(), key = lambda x: x[0])[price_index]\n",
    "    return best_price\n",
    "\n",
    "def find_corresponding_quantity(i, offers):\n",
    "    quantity_index = 1\n",
    "    if i.Order == 'Buy': \n",
    "        quantity = min(offers.items(), key = lambda x: x[0])[quantity_index]\n",
    "    else: \n",
    "        quantity = max(offers.items(), key = lambda x: x[0])[quantity_index]\n",
    "    return quantity\n",
    "\n",
    "def make_offers_dict(i, offers):\n",
    "    if str(i.Price) in offers.keys():\n",
    "        if i.Type == 'Add':\n",
    "            offers[str(i.Price)] +=  i.Quantity\n",
    "        else:  \n",
    "            offers[str(i.Price)] -=  i.Quantity         \n",
    "    else: \n",
    "        offers[str(i.Price)] = i.Quantity\n",
    "    return {k: int(v) for k, v in offers.items() if v > 0} \n",
    "\n",
    "def find_final_price_and_quantity(i, offers):\n",
    "    price = find_best_price(i, offers)\n",
    "    quantity = find_corresponding_quantity(i, offers)\n",
    "    return price, quantity"
   ]
  },
  {
   "cell_type": "code",
   "execution_count": 4,
   "id": "18822ccc",
   "metadata": {},
   "outputs": [
    {
     "name": "stdout",
     "output_type": "stream",
     "text": [
      "Buy price: 20.0, quantity: 100\n",
      "Sell price: 25.0, quantity: 200\n",
      "Buy price: 20.0, quantity: 100\n",
      "Buy price: 20.0, quantity: 100\n",
      "Buy price: 20.0, quantity: 100\n",
      "Sell price: 28.0, quantity: 100\n"
     ]
    }
   ],
   "source": [
    "global buy_dict, sell_dict\n",
    "buy_dict = {dataframe['Price'].max(): 0}\n",
    "sell_dict = {0: 0}\n",
    "for i in dataframe.itertuples():\n",
    "    if is_valid(i):\n",
    "        if i.Order == 'Buy':\n",
    "            price, quantity, buy_dict = get_best_stock_options(i, buy_dict)\n",
    "        else:\n",
    "            price, quantity, sell_dict = get_best_stock_options(i, sell_dict)\n",
    "        display_best_stock_options(i, price, quantity)\n",
    "    else:\n",
    "        display_best_stock_options(i)"
   ]
  }
 ],
 "metadata": {
  "kernelspec": {
   "display_name": "Python 3.9.7 ('base')",
   "language": "python",
   "name": "python3"
  },
  "language_info": {
   "codemirror_mode": {
    "name": "ipython",
    "version": 3
   },
   "file_extension": ".py",
   "mimetype": "text/x-python",
   "name": "python",
   "nbconvert_exporter": "python",
   "pygments_lexer": "ipython3",
   "version": "3.9.7"
  },
  "vscode": {
   "interpreter": {
    "hash": "369723c9f9a664f6f4a8830e147817a0133d489446ccde98608ed9a7cb301fc6"
   }
  }
 },
 "nbformat": 4,
 "nbformat_minor": 5
}
