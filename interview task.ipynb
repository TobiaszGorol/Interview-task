{
 "cells": [
  {
   "cell_type": "code",
   "execution_count": 1,
   "id": "c31ef7f3",
   "metadata": {},
   "outputs": [],
   "source": [
    "import numpy as np\n",
    "import pandas as pd"
   ]
  },
  {
   "cell_type": "code",
   "execution_count": 125,
   "id": "8e762825",
   "metadata": {},
   "outputs": [],
   "source": [
    "dataframe = pd.DataFrame({'Id': ['001', '002', '003', '004', '003', '005'],\n",
    "                          'Order': ['Buy', 'Sell', 'Buy', 'Buy', 'Buy', 'Sell'],\n",
    "                          'Type': ['Add', 'Add', 'Add', 'Add', 'Remove', 'Add'],\n",
    "                          'Price': [20.0, 25.0, 23.0, 23.0, 23.0, 28],\n",
    "                          'Quantity': [100, 200, 50, 70, 50, 100]\n",
    "    \n",
    "})"
   ]
  },
  {
   "cell_type": "code",
   "execution_count": 126,
   "id": "fc791af2",
   "metadata": {},
   "outputs": [
    {
     "data": {
      "text/html": [
       "<div>\n",
       "<style scoped>\n",
       "    .dataframe tbody tr th:only-of-type {\n",
       "        vertical-align: middle;\n",
       "    }\n",
       "\n",
       "    .dataframe tbody tr th {\n",
       "        vertical-align: top;\n",
       "    }\n",
       "\n",
       "    .dataframe thead th {\n",
       "        text-align: right;\n",
       "    }\n",
       "</style>\n",
       "<table border=\"1\" class=\"dataframe\">\n",
       "  <thead>\n",
       "    <tr style=\"text-align: right;\">\n",
       "      <th></th>\n",
       "      <th>Id</th>\n",
       "      <th>Order</th>\n",
       "      <th>Type</th>\n",
       "      <th>Price</th>\n",
       "      <th>Quantity</th>\n",
       "    </tr>\n",
       "  </thead>\n",
       "  <tbody>\n",
       "    <tr>\n",
       "      <th>0</th>\n",
       "      <td>001</td>\n",
       "      <td>Buy</td>\n",
       "      <td>Add</td>\n",
       "      <td>20.0</td>\n",
       "      <td>100</td>\n",
       "    </tr>\n",
       "    <tr>\n",
       "      <th>1</th>\n",
       "      <td>002</td>\n",
       "      <td>Sell</td>\n",
       "      <td>Add</td>\n",
       "      <td>25.0</td>\n",
       "      <td>200</td>\n",
       "    </tr>\n",
       "    <tr>\n",
       "      <th>2</th>\n",
       "      <td>003</td>\n",
       "      <td>Buy</td>\n",
       "      <td>Add</td>\n",
       "      <td>23.0</td>\n",
       "      <td>50</td>\n",
       "    </tr>\n",
       "    <tr>\n",
       "      <th>3</th>\n",
       "      <td>004</td>\n",
       "      <td>Buy</td>\n",
       "      <td>Add</td>\n",
       "      <td>23.0</td>\n",
       "      <td>70</td>\n",
       "    </tr>\n",
       "    <tr>\n",
       "      <th>4</th>\n",
       "      <td>003</td>\n",
       "      <td>Buy</td>\n",
       "      <td>Remove</td>\n",
       "      <td>23.0</td>\n",
       "      <td>50</td>\n",
       "    </tr>\n",
       "    <tr>\n",
       "      <th>5</th>\n",
       "      <td>005</td>\n",
       "      <td>Sell</td>\n",
       "      <td>Add</td>\n",
       "      <td>28.0</td>\n",
       "      <td>100</td>\n",
       "    </tr>\n",
       "  </tbody>\n",
       "</table>\n",
       "</div>"
      ],
      "text/plain": [
       "    Id Order    Type  Price  Quantity\n",
       "0  001   Buy     Add   20.0       100\n",
       "1  002  Sell     Add   25.0       200\n",
       "2  003   Buy     Add   23.0        50\n",
       "3  004   Buy     Add   23.0        70\n",
       "4  003   Buy  Remove   23.0        50\n",
       "5  005  Sell     Add   28.0       100"
      ]
     },
     "execution_count": 126,
     "metadata": {},
     "output_type": "execute_result"
    }
   ],
   "source": [
    "dataframe"
   ]
  },
  {
   "cell_type": "code",
   "execution_count": 129,
   "id": "974f529d",
   "metadata": {},
   "outputs": [
    {
     "name": "stdout",
     "output_type": "stream",
     "text": [
      "Best buy price: 20.0, quantity: 100\n",
      "Best sell price: 0, quantity: 0\n",
      "Best buy price: 20.0, quantity: 100\n",
      "Best sell price: 25.0, quantity: 200\n",
      "Best buy price: 20.0, quantity: 100\n",
      "Best sell price: 25.0, quantity: 200\n",
      "Best buy price: 20.0, quantity: 100\n",
      "Best sell price: 25.0, quantity: 200\n",
      "Best buy price: 20.0, quantity: 100\n",
      "Best sell price: 25.0, quantity: 200\n",
      "Best buy price: 20.0, quantity: 100\n",
      "Best sell price: 28.0, quantity: 100\n"
     ]
    }
   ],
   "source": [
    "best_buy_price = dataframe['Price'].max() + 1\n",
    "buy_quantity, best_sell_price, sell_quantity = 0, 0, 0 \n",
    "for i in dataframe.index:\n",
    "    if dataframe['Price'][i] <= best_buy_price and dataframe['Order'][i] == 'Buy':\n",
    "        if dataframe['Price'][i] != best_buy_price:\n",
    "            buy_quantity = 0\n",
    "        if dataframe['Type'][i] == 'Remove':\n",
    "            buy_quantity = buy_quantity - dataframe['Quantity'][i]\n",
    "        elif dataframe['Type'][i] == 'Add':\n",
    "            best_buy_price = dataframe['Price'][i]\n",
    "            buy_quantity =  buy_quantity + dataframe['Quantity'][i]   \n",
    "    elif dataframe['Price'][i] >= best_sell_price and dataframe['Order'][i] == 'Sell':\n",
    "        if dataframe['Price'][i] != best_sell_price:\n",
    "            sell_quantity = 0\n",
    "        if dataframe['Type'][i] == 'Remove':\n",
    "            sell_quantity = sell_quantity - dataframe['Quantity'][i]\n",
    "        elif dataframe['Type'][i] == 'Add':\n",
    "            best_sell_price = dataframe['Price'][i]\n",
    "            sell_quantity =  sell_quantity + dataframe['Quantity'][i]   \n",
    "\n",
    "    print(f'Best buy price: {best_buy_price}, quantity: {buy_quantity}')\n",
    "    print(f'Best sell price: {best_sell_price}, quantity: {sell_quantity}')"
   ]
  },
  {
   "cell_type": "code",
   "execution_count": 132,
   "id": "339b3dbc",
   "metadata": {},
   "outputs": [
    {
     "name": "stdout",
     "output_type": "stream",
     "text": [
      "Best buy price: 20.0, quantity: 100\n",
      "Best sell price: 0, quantity: 0\n",
      "Best buy price: 23.0, quantity: 50\n",
      "Best buy price: 23.0, quantity: 120\n",
      "Best buy price: 23.0, quantity: 70\n",
      "Best sell price: 0, quantity: 0\n"
     ]
    }
   ],
   "source": [
    "best_buy_price = dataframe['Price'].max() + 1\n",
    "buy_quantity, best_sell_price, sell_quantity = 0, 0, 0 \n",
    "for i in dataframe.index:\n",
    "    if dataframe['Order'][i] == 'Buy':\n",
    "        if dataframe['Price'][i] <= best_buy_price:\n",
    "            if dataframe['Price'][i] != best_buy_price:\n",
    "                buy_quantity = 0\n",
    "            if dataframe['Type'][i] == 'Remove':\n",
    "                buy_quantity = buy_quantity - dataframe['Quantity'][i]\n",
    "            elif dataframe['Type'][i] == 'Add':\n",
    "                best_buy_price = dataframe['Price'][i]\n",
    "                buy_quantity =  buy_quantity + dataframe['Quantity'][i]  \n",
    "            print(f'Best buy price: {best_buy_price}, quantity: {buy_quantity}')\n",
    "    else:\n",
    "        if dataframe['Price'][i] >= best_sell_price:\n",
    "            if dataframe['Price'][i] != best_sell_price:\n",
    "                sell_quantity = 0\n",
    "            if dataframe['Type'][i] == 'Remove':\n",
    "                buy_quantity = buy_quantity - dataframe['Quantity'][i]\n",
    "            elif dataframe['Type'][i] == 'Add':\n",
    "                best_buy_price = dataframe['Price'][i]\n",
    "                buy_quantity =  buy_quantity + dataframe['Quantity'][i]   \n",
    "        print(f'Best sell price: {best_sell_price}, quantity: {sell_quantity}')"
   ]
  },
  {
   "cell_type": "code",
   "execution_count": null,
   "id": "2b1f2248",
   "metadata": {},
   "outputs": [],
   "source": []
  },
  {
   "cell_type": "code",
   "execution_count": null,
   "id": "0a174a98",
   "metadata": {},
   "outputs": [],
   "source": []
  }
 ],
 "metadata": {
  "kernelspec": {
   "display_name": "Python 3 (ipykernel)",
   "language": "python",
   "name": "python3"
  },
  "language_info": {
   "codemirror_mode": {
    "name": "ipython",
    "version": 3
   },
   "file_extension": ".py",
   "mimetype": "text/x-python",
   "name": "python",
   "nbconvert_exporter": "python",
   "pygments_lexer": "ipython3",
   "version": "3.9.7"
  }
 },
 "nbformat": 4,
 "nbformat_minor": 5
}
